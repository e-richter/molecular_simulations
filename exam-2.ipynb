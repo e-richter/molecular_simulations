{
 "cells": [
  {
   "cell_type": "code",
   "execution_count": 1,
   "id": "interim-resort",
   "metadata": {},
   "outputs": [],
   "source": [
    "import numpy as np\n",
    "import matplotlib.pyplot as plt\n",
    "from tqdm import tqdm\n",
    "import IPython\n",
    "import imageio\n",
    "import os\n",
    "\n",
    "import os, sys, inspect\n",
    "current_dir = os.path.dirname(os.path.abspath(inspect.getfile(inspect.currentframe())))\n",
    "parent_dir = os.path.dirname(current_dir)\n",
    "sys.path.insert(0, parent_dir) \n",
    "\n",
    "import algorithms as a\n",
    "import force_functions as f"
   ]
  },
  {
   "cell_type": "code",
   "execution_count": 14,
   "id": "agreed-airport",
   "metadata": {},
   "outputs": [],
   "source": [
    "t_max = 500\n",
    "dt = .01\n",
    "lam = 0.1931833275037836\n",
    "N = 48"
   ]
  },
  {
   "cell_type": "code",
   "execution_count": 31,
   "id": "strange-mainland",
   "metadata": {},
   "outputs": [],
   "source": [
    "def init(N):\n",
    "    r0 = np.random.uniform(-.1, .1, size=(N,3))\n",
    "    \n",
    "    p0 = np.zeros([N, 3])\n",
    "    p0[0] = np.array([1/2., 0, 0])\n",
    "    p0[-1] = -p0[0]\n",
    "    \n",
    "    return r0, p0"
   ]
  },
  {
   "cell_type": "code",
   "execution_count": 32,
   "id": "hired-nashville",
   "metadata": {},
   "outputs": [],
   "source": [
    "def calc_energy(r, p, K=1, rmax=1):\n",
    "    \n",
    "    T = .5 * np.linalg.norm(p)**2\n",
    "    \n",
    "    V = (.5 * K * rmax * np.log(1 - np.linalg.norm(r[1:]-r[:-1], axis=1)**2 / rmax**2)).sum()\n",
    "        \n",
    "    return T + V"
   ]
  },
  {
   "cell_type": "code",
   "execution_count": null,
   "id": "czech-bibliography",
   "metadata": {},
   "outputs": [],
   "source": [
    "r0, p0 = init(N=N)"
   ]
  },
  {
   "cell_type": "code",
   "execution_count": null,
   "id": "revolutionary-theta",
   "metadata": {
    "scrolled": true
   },
   "outputs": [],
   "source": [
    "R, P, t = a.velocity_verlet_Ndim(r0.copy(), p0.copy(), t_max, dt, f.FENE_force)"
   ]
  },
  {
   "cell_type": "code",
   "execution_count": null,
   "id": "weekly-prediction",
   "metadata": {},
   "outputs": [],
   "source": [
    "plt.plot(R[:,0,0])"
   ]
  },
  {
   "cell_type": "code",
   "execution_count": null,
   "id": "judicial-boating",
   "metadata": {},
   "outputs": [],
   "source": [
    "E = np.zeros(len(t))\n",
    "for i in tqdm(range(len(t))):\n",
    "    E[i] = calc_energy(R[i], R[i])"
   ]
  },
  {
   "cell_type": "code",
   "execution_count": null,
   "id": "chief-editing",
   "metadata": {},
   "outputs": [],
   "source": [
    "plt.plot(t, E)"
   ]
  },
  {
   "cell_type": "code",
   "execution_count": null,
   "id": "prerequisite-guard",
   "metadata": {},
   "outputs": [],
   "source": [
    "def radius_of_gyration(r):\n",
    "    \n",
    "    r_cm = r.sum(axis=0) / len(r)\n",
    "    \n",
    "    Rg2 = (np.linalg.norm(r - r_cm, axis=1)**2).sum() / len(r)\n",
    "    \n",
    "    return Rg2"
   ]
  },
  {
   "cell_type": "code",
   "execution_count": null,
   "id": "romance-bullet",
   "metadata": {},
   "outputs": [],
   "source": [
    "def end2end_distance(r):\n",
    "    return np.linalg.norm(r[-1] - r[0])**2"
   ]
  },
  {
   "cell_type": "code",
   "execution_count": null,
   "id": "complimentary-headquarters",
   "metadata": {},
   "outputs": [],
   "source": [
    "Rg2 = np.zeros(len(t))\n",
    "for i in tqdm(range(len(t))):\n",
    "    Rg2[i] = radius_of_gyration(R[i])"
   ]
  },
  {
   "cell_type": "code",
   "execution_count": null,
   "id": "neutral-sharp",
   "metadata": {},
   "outputs": [],
   "source": [
    "np.sqrt(Rg2.mean())"
   ]
  },
  {
   "cell_type": "code",
   "execution_count": null,
   "id": "entertaining-support",
   "metadata": {},
   "outputs": [],
   "source": [
    "Re2 = np.zeros(len(t))\n",
    "for i in tqdm(range(len(t))):\n",
    "    Re2[i] = end2end_distance(R[i])"
   ]
  },
  {
   "cell_type": "code",
   "execution_count": null,
   "id": "musical-month",
   "metadata": {},
   "outputs": [],
   "source": [
    "np.sqrt(Re2.mean())"
   ]
  },
  {
   "cell_type": "code",
   "execution_count": null,
   "id": "changed-press",
   "metadata": {},
   "outputs": [],
   "source": [
    "plt.plot(Rg2)"
   ]
  },
  {
   "cell_type": "code",
   "execution_count": null,
   "id": "solved-florence",
   "metadata": {},
   "outputs": [],
   "source": [
    "plt.plot(Re2)"
   ]
  },
  {
   "cell_type": "code",
   "execution_count": null,
   "id": "recognized-runner",
   "metadata": {},
   "outputs": [],
   "source": [
    "T = 0.1\n",
    "kb = 1.380649e-23\n",
    "cv = ((E-E[0])**2).mean() / (N * T**2)\n",
    "print(cv)"
   ]
  },
  {
   "cell_type": "code",
   "execution_count": 33,
   "id": "chief-passing",
   "metadata": {},
   "outputs": [],
   "source": [
    "rmax = 1.\n",
    "L = N*rmax / 3."
   ]
  },
  {
   "cell_type": "code",
   "execution_count": 34,
   "id": "characteristic-source",
   "metadata": {},
   "outputs": [],
   "source": [
    "r0, p0 = init(N=N)"
   ]
  },
  {
   "cell_type": "code",
   "execution_count": 35,
   "id": "instant-professor",
   "metadata": {},
   "outputs": [
    {
     "name": "stderr",
     "output_type": "stream",
     "text": [
      "100%|██████████| 49999/49999 [01:57<00:00, 425.04it/s]\n"
     ]
    }
   ],
   "source": [
    "R2, P2, t2 = a.velocity_verlet_Ndim(r0.copy(), p0.copy(), t_max, dt, f.FENE_force,\n",
    "                                    periodic={'PBC': True, 'box_size': L, 'closed': True})"
   ]
  },
  {
   "cell_type": "code",
   "execution_count": 36,
   "id": "norman-cleveland",
   "metadata": {},
   "outputs": [],
   "source": [
    "r_single = R2[:,0,:]\n",
    "dr2 = np.linalg.norm(r_single[:] - r_single[0], axis=1)**2"
   ]
  },
  {
   "cell_type": "code",
   "execution_count": 37,
   "id": "alternate-melissa",
   "metadata": {},
   "outputs": [
    {
     "data": {
      "text/plain": [
       "[<matplotlib.lines.Line2D at 0x138f9cca0>]"
      ]
     },
     "execution_count": 37,
     "metadata": {},
     "output_type": "execute_result"
    },
    {
     "data": {
      "image/png": "[encoded data removed]",
      "text/plain": [
       "<Figure size 432x288 with 1 Axes>"
      ]
     },
     "metadata": {
      "needs_background": "light"
     },
     "output_type": "display_data"
    }
   ],
   "source": [
    "plt.plot(dr2)"
   ]
  },
  {
   "cell_type": "code",
   "execution_count": 22,
   "id": "physical-beginning",
   "metadata": {},
   "outputs": [],
   "source": [
    "gamma = .2"
   ]
  },
  {
   "cell_type": "code",
   "execution_count": 23,
   "id": "wicked-anaheim",
   "metadata": {},
   "outputs": [
    {
     "name": "stderr",
     "output_type": "stream",
     "text": [
      "100%|██████████| 49999/49999 [02:03<00:00, 403.66it/s]\n"
     ]
    }
   ],
   "source": [
    "R2_lg, P2_lg, t2_lg = a.leimkuhler_matthews_BAOAB(r0.copy(), p0.copy(), t_max, dt, f.FENE_force, gamma,\n",
    "                                                  periodic={'PBC': True, 'box_size': L, 'closed': True})"
   ]
  },
  {
   "cell_type": "code",
   "execution_count": 24,
   "id": "olive-deputy",
   "metadata": {},
   "outputs": [],
   "source": [
    "r_single_lg = R2_lg[:,0,:]\n",
    "dr2_lg = np.linalg.norm(r_single_lg[:] - r_single_lg[0], axis=1)**2"
   ]
  },
  {
   "cell_type": "code",
   "execution_count": 30,
   "id": "rural-wildlife",
   "metadata": {
    "scrolled": true
   },
   "outputs": [
    {
     "data": {
      "text/plain": [
       "[<matplotlib.lines.Line2D at 0x138f41310>]"
      ]
     },
     "execution_count": 30,
     "metadata": {},
     "output_type": "execute_result"
    },
    {
     "data": {
      "image/png": "[encoded data removed]",
      "text/plain": [
       "<Figure size 432x288 with 1 Axes>"
      ]
     },
     "metadata": {
      "needs_background": "light"
     },
     "output_type": "display_data"
    }
   ],
   "source": [
    "plt.plot(dr2_lg)"
   ]
  },
  {
   "cell_type": "code",
   "execution_count": null,
   "id": "joint-uruguay",
   "metadata": {},
   "outputs": [],
   "source": []
  }
 ],
 "metadata": {
  "kernelspec": {
   "display_name": "Python 3",
   "language": "python",
   "name": "python3"
  },
  "language_info": {
   "codemirror_mode": {
    "name": "ipython",
    "version": 3
   },
   "file_extension": ".py",
   "mimetype": "text/x-python",
   "name": "python",
   "nbconvert_exporter": "python",
   "pygments_lexer": "ipython3",
   "version": "3.9.2"
  }
 },
 "nbformat": 4,
 "nbformat_minor": 5
}
