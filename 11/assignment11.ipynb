{
 "cells": [
  {
   "cell_type": "code",
   "execution_count": 1,
   "id": "played-victory",
   "metadata": {},
   "outputs": [],
   "source": [
    "import numpy as np\n",
    "import matplotlib.pyplot as plt\n",
    "from tqdm import tqdm\n",
    "from scipy.stats import maxwell\n",
    "\n",
    "import os, sys, inspect\n",
    "current_dir = os.path.dirname(os.path.abspath(inspect.getfile(inspect.currentframe())))\n",
    "parent_dir = os.path.dirname(current_dir)\n",
    "sys.path.insert(0, parent_dir) \n",
    "\n",
    "import algorithms as a\n",
    "import force_functions as f"
   ]
  },
  {
   "cell_type": "code",
   "execution_count": 2,
   "id": "frequent-label",
   "metadata": {},
   "outputs": [],
   "source": [
    "np.random.seed(1)"
   ]
  },
  {
   "cell_type": "code",
   "execution_count": 19,
   "id": "acquired-collective",
   "metadata": {},
   "outputs": [],
   "source": [
    "t_max = 100\n",
    "dt = .002\n",
    "N = 64\n",
    "gamma = 1."
   ]
  },
  {
   "cell_type": "code",
   "execution_count": 1,
   "id": "approved-allowance",
   "metadata": {},
   "outputs": [],
   "source": [
    "def init(N, L, lattice_constant):\n",
    "    \n",
    "    positions = list(np.arange(-L/2., L/2., lattice_constant))\n",
    "    r0 = np.array(np.meshgrid(positions, positions, positions)).T.reshape(-1,3)\n",
    "    p0 = maxwell.rvs(loc=0, scale=1.5, size=(N,3)) / np.sqrt(1.5)\n",
    "    \n",
    "    return r0, p0"
   ]
  },
  {
   "cell_type": "code",
   "execution_count": 2,
   "id": "electrical-agency",
   "metadata": {},
   "outputs": [
    {
     "ename": "NameError",
     "evalue": "name 'np' is not defined",
     "output_type": "error",
     "traceback": [
      "\u001b[0;31m---------------------------------------------------------------------------\u001b[0m",
      "\u001b[0;31mNameError\u001b[0m                                 Traceback (most recent call last)",
      "\u001b[0;32m<ipython-input-2-8112c9bbb16d>\u001b[0m in \u001b[0;36m<module>\u001b[0;34m\u001b[0m\n\u001b[0;32m----> 1\u001b[0;31m \u001b[0mr0\u001b[0m\u001b[0;34m,\u001b[0m \u001b[0mp0\u001b[0m \u001b[0;34m=\u001b[0m \u001b[0minit\u001b[0m\u001b[0;34m(\u001b[0m\u001b[0mN\u001b[0m\u001b[0;34m=\u001b[0m\u001b[0;36m64\u001b[0m\u001b[0;34m,\u001b[0m \u001b[0mL\u001b[0m\u001b[0;34m=\u001b[0m\u001b[0;36m6.\u001b[0m\u001b[0;34m,\u001b[0m \u001b[0mlattice_constant\u001b[0m\u001b[0;34m=\u001b[0m\u001b[0;36m1.5\u001b[0m\u001b[0;34m)\u001b[0m\u001b[0;34m\u001b[0m\u001b[0;34m\u001b[0m\u001b[0m\n\u001b[0m",
      "\u001b[0;32m<ipython-input-1-7f965f10940f>\u001b[0m in \u001b[0;36minit\u001b[0;34m(N, L, lattice_constant)\u001b[0m\n\u001b[1;32m      3\u001b[0m     \u001b[0;31m#positions = list(np.arange(-L/2., L/2., lattice_constant))\u001b[0m\u001b[0;34m\u001b[0m\u001b[0;34m\u001b[0m\u001b[0;34m\u001b[0m\u001b[0m\n\u001b[1;32m      4\u001b[0m     \u001b[0;31m#r0 = np.array(np.meshgrid(positions, positions, positions)).T.reshape(-1,3)\u001b[0m\u001b[0;34m\u001b[0m\u001b[0;34m\u001b[0m\u001b[0;34m\u001b[0m\u001b[0m\n\u001b[0;32m----> 5\u001b[0;31m     \u001b[0mr0\u001b[0m \u001b[0;34m=\u001b[0m \u001b[0mnp\u001b[0m\u001b[0;34m.\u001b[0m\u001b[0mrandom\u001b[0m\u001b[0;34m.\u001b[0m\u001b[0mrand\u001b[0m\u001b[0;34m(\u001b[0m\u001b[0mN\u001b[0m\u001b[0;34m,\u001b[0m \u001b[0;36m3\u001b[0m\u001b[0;34m)\u001b[0m\u001b[0;34m\u001b[0m\u001b[0;34m\u001b[0m\u001b[0m\n\u001b[0m\u001b[1;32m      6\u001b[0m     \u001b[0mp0\u001b[0m \u001b[0;34m=\u001b[0m \u001b[0mmaxwell\u001b[0m\u001b[0;34m.\u001b[0m\u001b[0mrvs\u001b[0m\u001b[0;34m(\u001b[0m\u001b[0mloc\u001b[0m\u001b[0;34m=\u001b[0m\u001b[0;36m0\u001b[0m\u001b[0;34m,\u001b[0m \u001b[0mscale\u001b[0m\u001b[0;34m=\u001b[0m\u001b[0;36m1.5\u001b[0m\u001b[0;34m,\u001b[0m \u001b[0msize\u001b[0m\u001b[0;34m=\u001b[0m\u001b[0;34m(\u001b[0m\u001b[0mN\u001b[0m\u001b[0;34m,\u001b[0m\u001b[0;36m3\u001b[0m\u001b[0;34m)\u001b[0m\u001b[0;34m)\u001b[0m \u001b[0;34m/\u001b[0m \u001b[0mnp\u001b[0m\u001b[0;34m.\u001b[0m\u001b[0msqrt\u001b[0m\u001b[0;34m(\u001b[0m\u001b[0;36m1.5\u001b[0m\u001b[0;34m)\u001b[0m\u001b[0;34m\u001b[0m\u001b[0;34m\u001b[0m\u001b[0m\n\u001b[1;32m      7\u001b[0m \u001b[0;34m\u001b[0m\u001b[0m\n",
      "\u001b[0;31mNameError\u001b[0m: name 'np' is not defined"
     ]
    }
   ],
   "source": [
    "r0, p0 = init(N=64, L=6., lattice_constant=1.5)"
   ]
  },
  {
   "cell_type": "code",
   "execution_count": 22,
   "id": "ecological-information",
   "metadata": {},
   "outputs": [
    {
     "name": "stderr",
     "output_type": "stream",
     "text": [
      "100%|██████████| 49999/49999 [01:10<00:00, 711.08it/s]\n"
     ]
    }
   ],
   "source": [
    "R, P, t = a.leimkuhler_matthews_BAOAB(r0, p0, t_max, dt, f.LJ_force, gamma,\n",
    "                                      periodic={'PBC': True, 'box_size': 6., 'closed': False})"
   ]
  },
  {
   "cell_type": "code",
   "execution_count": 8,
   "id": "applied-remark",
   "metadata": {},
   "outputs": [],
   "source": [
    "def kinetic_energy(p):\n",
    "    return .5 * np.linalg.norm(p, axis=(1,2))**2"
   ]
  },
  {
   "cell_type": "code",
   "execution_count": 9,
   "id": "electric-elevation",
   "metadata": {},
   "outputs": [],
   "source": [
    "def potential_energy(r, sigma=1, periodic=None):\n",
    "    if periodic is None:\n",
    "        periodic = {'PBC': False,\n",
    "                    'box_size': 0,\n",
    "                    'closed': False}\n",
    "\n",
    "    idx = np.arange(len(r))\n",
    "    pairs = np.meshgrid(idx, idx)\n",
    "    separations = r[pairs[0]] - r[pairs[1]]\n",
    "\n",
    "    if periodic['PBC']:\n",
    "        separations[np.where(separations > periodic['box_size'] / 2.)] -= periodic['box_size']\n",
    "        separations[np.where(separations < -periodic['box_size'] / 2.)] += periodic['box_size']\n",
    "\n",
    "    distances = np.triu(np.linalg.norm(separations, axis=-1))\n",
    "\n",
    "    V = (4 * np.power(sigma / distances, 12) - 4 * np.power(sigma / distances, 6))\n",
    "    V[np.isnan(V)] = 0.\n",
    "    V = V.sum()\n",
    "\n",
    "    return V"
   ]
  },
  {
   "cell_type": "code",
   "execution_count": 11,
   "id": "still-cisco",
   "metadata": {},
   "outputs": [
    {
     "name": "stderr",
     "output_type": "stream",
     "text": [
      "  0%|          | 0/5000 [00:00<?, ?it/s]<ipython-input-9-4b4566361a9d>:17: RuntimeWarning: divide by zero encountered in true_divide\n",
      "  V = (4 * np.power(sigma / distances, 12) - 4 * np.power(sigma / distances, 6))\n",
      "<ipython-input-9-4b4566361a9d>:17: RuntimeWarning: invalid value encountered in subtract\n",
      "  V = (4 * np.power(sigma / distances, 12) - 4 * np.power(sigma / distances, 6))\n",
      "100%|██████████| 5000/5000 [00:03<00:00, 1598.13it/s]\n"
     ]
    }
   ],
   "source": [
    "T = kinetic_energy(P)\n",
    "V = np.zeros(len(t))\n",
    "for i in tqdm(range(len(t))):\n",
    "    V[i] = potential_energy(R[i], periodic={'PBC': True, 'box_size': 6., 'closed': False})"
   ]
  },
  {
   "cell_type": "code",
   "execution_count": 23,
   "id": "weekly-discretion",
   "metadata": {},
   "outputs": [
    {
     "data": {
      "text/plain": [
       "[<matplotlib.lines.Line2D at 0x138033dc0>]"
      ]
     },
     "execution_count": 23,
     "metadata": {},
     "output_type": "execute_result"
    },
    {
     "data": {
      "image/png": "[encoded data removed]",
      "text/plain": [
       "<Figure size 432x288 with 1 Axes>"
      ]
     },
     "metadata": {
      "needs_background": "light"
     },
     "output_type": "display_data"
    }
   ],
   "source": [
    "plt.plot(t, T)"
   ]
  },
  {
   "cell_type": "code",
   "execution_count": 24,
   "id": "popular-algebra",
   "metadata": {},
   "outputs": [
    {
     "data": {
      "text/plain": [
       "[<matplotlib.lines.Line2D at 0x138093100>]"
      ]
     },
     "execution_count": 24,
     "metadata": {},
     "output_type": "execute_result"
    },
    {
     "data": {
      "image/png": "[encoded data removed]",
      "text/plain": [
       "<Figure size 432x288 with 1 Axes>"
      ]
     },
     "metadata": {
      "needs_background": "light"
     },
     "output_type": "display_data"
    }
   ],
   "source": [
    "plt.plot(t, V)"
   ]
  },
  {
   "cell_type": "code",
   "execution_count": null,
   "id": "continued-standard",
   "metadata": {},
   "outputs": [],
   "source": []
  }
 ],
 "metadata": {
  "kernelspec": {
   "display_name": "Python 3",
   "language": "python",
   "name": "python3"
  },
  "language_info": {
   "codemirror_mode": {
    "name": "ipython",
    "version": 3
   },
   "file_extension": ".py",
   "mimetype": "text/x-python",
   "name": "python",
   "nbconvert_exporter": "python",
   "pygments_lexer": "ipython3",
   "version": "3.9.2"
  }
 },
 "nbformat": 4,
 "nbformat_minor": 5
}
