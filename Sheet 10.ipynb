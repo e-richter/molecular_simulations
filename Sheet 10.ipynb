{
 "cells": [
  {
   "cell_type": "code",
   "execution_count": 1,
   "id": "0401d821",
   "metadata": {},
   "outputs": [],
   "source": [
    "import numpy as np\n",
    "import matplotlib.pyplot as plt\n",
    "from tqdm import tqdm\n",
    "from scipy.stats import maxwell\n",
    "\n",
    "import os, sys, inspect\n",
    "current_dir = os.path.dirname(os.path.abspath(inspect.getfile(inspect.currentframe())))\n",
    "parent_dir = os.path.dirname(current_dir)\n",
    "sys.path.insert(0, parent_dir) \n",
    "\n",
    "import algorithms as a\n",
    "import force_functions as f"
   ]
  },
  {
   "cell_type": "code",
   "execution_count": 2,
   "id": "59f33169",
   "metadata": {},
   "outputs": [],
   "source": [
    "omega = 1/3\n",
    "N = 100\n",
    "t_max = 1000\n",
    "dt = 0.01\n",
    "gamma = 1."
   ]
  },
  {
   "cell_type": "code",
   "execution_count": 3,
   "id": "dc94c2aa",
   "metadata": {},
   "outputs": [],
   "source": [
    "r0 = np.zeros([N,3])\n",
    "p0 = np.zeros([N,3])"
   ]
  },
  {
   "cell_type": "code",
   "execution_count": 4,
   "id": "08a8199f",
   "metadata": {},
   "outputs": [
    {
     "name": "stderr",
     "output_type": "stream",
     "text": [
      "100%|██████████| 99999/99999 [00:05<00:00, 16678.60it/s]\n"
     ]
    }
   ],
   "source": [
    "R, P, T = a.leimkuhler_matthews_BAOAB(r0, p0, t_max, dt, f.harmonic_force, gamma, omega)"
   ]
  },
  {
   "cell_type": "code",
   "execution_count": 5,
   "id": "f4ac45f1",
   "metadata": {},
   "outputs": [
    {
     "data": {
      "text/plain": [
       "[<matplotlib.lines.Line2D at 0x2b966b06700>,\n",
       " <matplotlib.lines.Line2D at 0x2b966b067c0>,\n",
       " <matplotlib.lines.Line2D at 0x2b966b06850>]"
      ]
     },
     "execution_count": 5,
     "metadata": {},
     "output_type": "execute_result"
    },
    {
     "data": {
      "image/png": "[encoded data removed]",
      "text/plain": [
       "<Figure size 432x288 with 1 Axes>"
      ]
     },
     "metadata": {
      "needs_background": "light"
     },
     "output_type": "display_data"
    }
   ],
   "source": [
    "plt.plot(R[:,4,:])"
   ]
  },
  {
   "cell_type": "code",
   "execution_count": 5,
   "id": "10deddcb",
   "metadata": {},
   "outputs": [
    {
     "data": {
      "text/plain": [
       "100.0"
      ]
     },
     "execution_count": 5,
     "metadata": {},
     "output_type": "execute_result"
    }
   ],
   "source": [
    "gamma / dt"
   ]
  },
  {
   "cell_type": "code",
   "execution_count": 15,
   "id": "f9dd0f51",
   "metadata": {},
   "outputs": [],
   "source": [
    "N=np.random.normal(0, 1, size=[100,3])"
   ]
  },
  {
   "cell_type": "code",
   "execution_count": 16,
   "id": "49905229",
   "metadata": {},
   "outputs": [
    {
     "data": {
      "text/plain": [
       "-0.0010860328495319858"
      ]
     },
     "execution_count": 16,
     "metadata": {},
     "output_type": "execute_result"
    }
   ],
   "source": [
    "N.mean()"
   ]
  },
  {
   "cell_type": "code",
   "execution_count": null,
   "id": "1efc02e4",
   "metadata": {},
   "outputs": [],
   "source": []
  }
 ],
 "metadata": {
  "kernelspec": {
   "display_name": "Python 3",
   "language": "python",
   "name": "python3"
  },
  "language_info": {
   "codemirror_mode": {
    "name": "ipython",
    "version": 3
   },
   "file_extension": ".py",
   "mimetype": "text/x-python",
   "name": "python",
   "nbconvert_exporter": "python",
   "pygments_lexer": "ipython3",
   "version": "3.8.10"
  }
 },
 "nbformat": 4,
 "nbformat_minor": 5
}
