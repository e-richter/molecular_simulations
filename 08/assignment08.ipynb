{
 "cells": [
  {
   "cell_type": "code",
   "execution_count": 2,
   "id": "literary-listing",
   "metadata": {},
   "outputs": [],
   "source": [
    "import numpy as np\n",
    "import matplotlib.pyplot as plt\n",
    "from tqdm import tqdm\n",
    "from scipy.special import factorial\n",
    "\n",
    "import os, sys, inspect\n",
    "current_dir = os.path.dirname(os.path.abspath(inspect.getfile(inspect.currentframe())))\n",
    "parent_dir = os.path.dirname(current_dir)\n",
    "sys.path.insert(0, parent_dir) \n",
    "\n",
    "import algorithms as a\n",
    "import force_functions as f"
   ]
  },
  {
   "cell_type": "code",
   "execution_count": 37,
   "id": "induced-context",
   "metadata": {},
   "outputs": [],
   "source": [
    "zeta = 1000.\n",
    "M = 1\n",
    "random = False"
   ]
  },
  {
   "cell_type": "code",
   "execution_count": 38,
   "id": "organized-alias",
   "metadata": {},
   "outputs": [
    {
     "name": "stderr",
     "output_type": "stream",
     "text": [
      "  0%|          | 0/1000000 [00:00<?, ?it/s]<ipython-input-36-361d8947deb5>:26: RuntimeWarning: overflow encountered in double_scalars\n",
      "  acc_prob = np.minimum(1, (factorial(N_old)*zeta**m)/factorial(N_new))\n",
      "<ipython-input-36-361d8947deb5>:26: RuntimeWarning: invalid value encountered in double_scalars\n",
      "  acc_prob = np.minimum(1, (factorial(N_old)*zeta**m)/factorial(N_new))\n",
      "100%|██████████| 1000000/1000000 [00:22<00:00, 44472.66it/s]\n"
     ]
    }
   ],
   "source": [
    "N = a.metropolis_hastings(moves=int(1e6), zeta=zeta, N0=0, M=M, random=random)"
   ]
  },
  {
   "cell_type": "code",
   "execution_count": 39,
   "id": "flexible-orchestra",
   "metadata": {},
   "outputs": [],
   "source": [
    "unique, counts = np.unique(N, return_counts=True)"
   ]
  },
  {
   "cell_type": "code",
   "execution_count": 40,
   "id": "strategic-class",
   "metadata": {},
   "outputs": [
    {
     "name": "stdout",
     "output_type": "stream",
     "text": [
      "mean: 169.76544123455878\n",
      "standard deviation: 1.9582459742865737\n",
      "variance: 1.3993734220309366\n"
     ]
    }
   ],
   "source": [
    "print(f'mean: {N.mean()}')\n",
    "print(f'standard deviation: {N.std()}')\n",
    "print(f'variance: {np.sqrt(N.std())}')"
   ]
  },
  {
   "cell_type": "code",
   "execution_count": 41,
   "id": "sorted-conservative",
   "metadata": {},
   "outputs": [
    {
     "name": "stderr",
     "output_type": "stream",
     "text": [
      "<ipython-input-41-49b77ca0acc7>:3: RuntimeWarning: overflow encountered in power\n",
      "  p_eq[i_n] = zeta**n * np.e**(-zeta) / np.math.factorial(n)\n",
      "<ipython-input-41-49b77ca0acc7>:3: RuntimeWarning: invalid value encountered in double_scalars\n",
      "  p_eq[i_n] = zeta**n * np.e**(-zeta) / np.math.factorial(n)\n"
     ]
    }
   ],
   "source": [
    "p_eq = np.zeros(len(unique))\n",
    "for i_n, n in enumerate(unique):\n",
    "    p_eq[i_n] = zeta**n * np.e**(-zeta) / np.math.factorial(n)"
   ]
  },
  {
   "cell_type": "code",
   "execution_count": 42,
   "id": "trained-principal",
   "metadata": {
    "scrolled": false
   },
   "outputs": [
    {
     "data": {
      "image/png": "[encoded data removed]",
      "text/plain": [
       "<Figure size 864x576 with 1 Axes>"
      ]
     },
     "metadata": {
      "needs_background": "light"
     },
     "output_type": "display_data"
    }
   ],
   "source": [
    "fig1, ax1 = plt.subplots(figsize=(12,8))\n",
    "probs, _, _ = ax1.hist(N, bins=N.max(), density=True, align='left')\n",
    "ax1.plot(unique, p_eq)\n",
    "ax1.set_xlabel('N')\n",
    "ax1.set_ylabel('probability')\n",
    "#plt.savefig('./figures/N_zeta10_m1.png', dpi=300, bbox_inches='tight')\n",
    "#plt.savefig('./figures/N_zeta10_m3.png', dpi=300, bbox_inches='tight')\n",
    "#plt.savefig('./figures/N_zeta100_m3.png', dpi=300, bbox_inches='tight')\n",
    "#plt.savefig('./figures/N_zeta10_M3.png', dpi=300, bbox_inches='tight')\n",
    "#plt.savefig('./figures/N_zeta1000_M100.png', dpi=300, bbox_inches='tight')\n",
    "plt.show()"
   ]
  },
  {
   "cell_type": "code",
   "execution_count": 47,
   "id": "prompt-italic",
   "metadata": {},
   "outputs": [
    {
     "name": "stderr",
     "output_type": "stream",
     "text": [
      "100%|██████████| 1000000/1000000 [00:19<00:00, 50674.39it/s]\n"
     ]
    }
   ],
   "source": [
    "N, count = a.poisson(int(1e6), zeta=10)"
   ]
  },
  {
   "cell_type": "code",
   "execution_count": 48,
   "id": "composite-lyric",
   "metadata": {},
   "outputs": [
    {
     "data": {
      "image/png": "[encoded data removed]",
      "text/plain": [
       "<Figure size 864x576 with 1 Axes>"
      ]
     },
     "metadata": {
      "needs_background": "light"
     },
     "output_type": "display_data"
    }
   ],
   "source": [
    "fig2, ax2 = plt.subplots(figsize=(12,8))\n",
    "ax2.hist(N, bins=int(N.max()), density=True, align='left');\n",
    "ax2.set_xlabel('N')\n",
    "ax2.set_ylabel('probability')\n",
    "plt.savefig('./figures/poisson_zeta10.png', dpi=300, bbox_inches='tight')\n",
    "plt.show()"
   ]
  },
  {
   "cell_type": "code",
   "execution_count": 45,
   "id": "offshore-emission",
   "metadata": {},
   "outputs": [
    {
     "data": {
      "text/plain": [
       "746.400314"
      ]
     },
     "execution_count": 45,
     "metadata": {},
     "output_type": "execute_result"
    }
   ],
   "source": [
    "count.mean()"
   ]
  },
  {
   "cell_type": "code",
   "execution_count": null,
   "id": "corporate-drink",
   "metadata": {},
   "outputs": [],
   "source": []
  }
 ],
 "metadata": {
  "kernelspec": {
   "display_name": "Python 3",
   "language": "python",
   "name": "python3"
  },
  "language_info": {
   "codemirror_mode": {
    "name": "ipython",
    "version": 3
   },
   "file_extension": ".py",
   "mimetype": "text/x-python",
   "name": "python",
   "nbconvert_exporter": "python",
   "pygments_lexer": "ipython3",
   "version": "3.9.2"
  }
 },
 "nbformat": 4,
 "nbformat_minor": 5
}
