{
 "cells": [
  {
   "cell_type": "code",
   "execution_count": 1,
   "id": "literary-listing",
   "metadata": {},
   "outputs": [],
   "source": [
    "import numpy as np\n",
    "import matplotlib.pyplot as plt\n",
    "from tqdm import tqdm\n",
    "from scipy.special import factorial\n",
    "\n",
    "import os, sys, inspect\n",
    "current_dir = os.path.dirname(os.path.abspath(inspect.getfile(inspect.currentframe())))\n",
    "parent_dir = os.path.dirname(current_dir)\n",
    "sys.path.insert(0, parent_dir) \n",
    "\n",
    "import algorithms as a\n",
    "import force_functions as f"
   ]
  },
  {
   "cell_type": "code",
   "execution_count": 2,
   "id": "royal-acrylic",
   "metadata": {},
   "outputs": [],
   "source": [
    "def metropolis_hastings(moves, zeta, N0=0, M=1, random=False):\n",
    "    \n",
    "    #N = {'step 0': N0}\n",
    "    N = [N0]\n",
    "    N_old = N0\n",
    "    \n",
    "    for i in range(moves):\n",
    "        \n",
    "        if random:\n",
    "            m = np.random.choice(np.arange(1, M+1))\n",
    "        else:\n",
    "            m = M\n",
    "                \n",
    "        u = np.random.uniform()\n",
    "        if u < .5:\n",
    "            N_new = N_old - m\n",
    "            if N_new<0:\n",
    "                N_new = 0\n",
    "            acc_prob = np.minimum(1, factorial(N_old)/(factorial(N_new)*zeta**m))\n",
    "            if np.isnan(acc_prob):\n",
    "                acc_prob = 0.\n",
    "            \n",
    "            N_old = np.random.choice([N_new, N_old], p=[acc_prob, 1-acc_prob])\n",
    "        else:\n",
    "            N_new = N_old + m\n",
    "            acc_prob = np.minimum(1, (factorial(N_old)*zeta**m)/factorial(N_new))\n",
    "            if np.isnan(acc_prob):\n",
    "                acc_prob = 0.\n",
    "            \n",
    "            N_old = np.random.choice([N_new, N_old], p=[acc_prob, 1-acc_prob])\n",
    "        \n",
    "        N.append(N_old)\n",
    "        \n",
    "    return np.asarray(N)"
   ]
  },
  {
   "cell_type": "code",
   "execution_count": 34,
   "id": "induced-context",
   "metadata": {},
   "outputs": [],
   "source": [
    "zeta = 10.\n",
    "M = 1\n",
    "random = False"
   ]
  },
  {
   "cell_type": "code",
   "execution_count": 38,
   "id": "organized-alias",
   "metadata": {},
   "outputs": [
    {
     "data": {
      "text/plain": [
       "12"
      ]
     },
     "execution_count": 38,
     "metadata": {},
     "output_type": "execute_result"
    }
   ],
   "source": [
    "N = metropolis_hastings(moves=int(1e6), zeta=zeta, N0=0, M=M, random=random)\n",
    "N[3538]"
   ]
  },
  {
   "cell_type": "code",
   "execution_count": 36,
   "id": "flexible-orchestra",
   "metadata": {},
   "outputs": [],
   "source": [
    "unique, counts = np.unique(N, return_counts=True)"
   ]
  },
  {
   "cell_type": "code",
   "execution_count": 21,
   "id": "strategic-class",
   "metadata": {},
   "outputs": [
    {
     "name": "stdout",
     "output_type": "stream",
     "text": [
      "mean: 9.995772004227996\n",
      "standard deviation: 3.1595924010874783\n",
      "variance: 1.7775242336146864\n"
     ]
    }
   ],
   "source": [
    "print(f'mean: {N.mean()}')\n",
    "print(f'standard deviation: {N.std()}')\n",
    "print(f'variance: {np.sqrt(N.std())}')"
   ]
  },
  {
   "cell_type": "code",
   "execution_count": 22,
   "id": "sorted-conservative",
   "metadata": {},
   "outputs": [],
   "source": [
    "p_eq = np.zeros(len(unique))\n",
    "for i_n, n in enumerate(unique):\n",
    "    p_eq[i_n] = zeta**n * np.e**(-zeta) / np.math.factorial(n)"
   ]
  },
  {
   "cell_type": "code",
   "execution_count": 23,
   "id": "trained-principal",
   "metadata": {
    "scrolled": false
   },
   "outputs": [
    {
     "data": {
      "image/png": "[encoded data removed]",
      "text/plain": [
       "<Figure size 864x576 with 1 Axes>"
      ]
     },
     "metadata": {
      "needs_background": "light"
     },
     "output_type": "display_data"
    }
   ],
   "source": [
    "fig1, ax1 = plt.subplots(figsize=(12,8))\n",
    "probs, _, _ = ax1.hist(N, bins=N.max(), density=True, align='left')\n",
    "ax1.plot(unique, p_eq)\n",
    "ax1.set_xlabel('N')\n",
    "ax1.set_ylabel('probability')\n",
    "plt.savefig('./figures/N_zeta100_m1.png', dpi=300, bbox_inches='tight')\n",
    "#plt.savefig('./figures/N_zeta10_m3.png', dpi=300, bbox_inches='tight')\n",
    "#plt.savefig('./figures/N_zeta100_m3.png', dpi=300, bbox_inches='tight')\n",
    "#plt.savefig('./figures/N_zeta10_M3.png', dpi=300, bbox_inches='tight')\n",
    "#plt.savefig('./figures/N_zeta1000_M100.png', dpi=300, bbox_inches='tight')\n",
    "plt.show()"
   ]
  },
  {
   "cell_type": "code",
   "execution_count": 131,
   "id": "7b084fc8",
   "metadata": {},
   "outputs": [
    {
     "name": "stderr",
     "output_type": "stream",
     "text": [
      "100%|██████████| 5/5 [03:00<00:00, 36.00s/it]\n"
     ]
    }
   ],
   "source": [
    "NN = np.zeros([5, int(1e6+1)])\n",
    "              \n",
    "for seed in tqdm(range(0, 5)):\n",
    "    np.random.seed(seed+13)\n",
    "    NN[seed] = metropolis_hastings(moves=int(1e6), zeta=zeta, N0=0, M=M, random=random) "
   ]
  },
  {
   "cell_type": "code",
   "execution_count": 156,
   "id": "breeding-material",
   "metadata": {},
   "outputs": [],
   "source": [
    "def correlation(NN, k0, l):\n",
    "    \n",
    "    runs = NN.shape[0]\n",
    "    k = np.arange(k0, k0+10000, 20)\n",
    "    C = 0\n",
    "    mean = 0\n",
    "    \n",
    "    for i in range(runs):\n",
    "        for j in range(len(k)):\n",
    "            C += NN[i, k[j]+l]*NN[i, k[j]]/(len(k))\n",
    "            mean += NN[i, k[j]]/len(k)\n",
    "    return C/runs - (mean/runs)**2"
   ]
  },
  {
   "cell_type": "code",
   "execution_count": 157,
   "id": "e1602aa9",
   "metadata": {},
   "outputs": [],
   "source": [
    "C = np.zeros(21)\n",
    "\n",
    "for i in range(21):\n",
    "    C[i] = correlation(NN, k0 = 100, l = i)"
   ]
  },
  {
   "cell_type": "code",
   "execution_count": 158,
   "id": "5017fad7",
   "metadata": {},
   "outputs": [
    {
     "data": {
      "text/plain": [
       "[<matplotlib.lines.Line2D at 0x1e218398ee0>]"
      ]
     },
     "execution_count": 158,
     "metadata": {},
     "output_type": "execute_result"
    },
    {
     "data": {
      "image/png": "[encoded data removed]",
      "text/plain": [
       "<Figure size 432x288 with 1 Axes>"
      ]
     },
     "metadata": {
      "needs_background": "light"
     },
     "output_type": "display_data"
    }
   ],
   "source": [
    "plt.plot(C)"
   ]
  },
  {
   "cell_type": "code",
   "execution_count": 160,
   "id": "971854d5",
   "metadata": {},
   "outputs": [
    {
     "data": {
      "text/plain": [
       "(array([0], dtype=int64),)"
      ]
     },
     "execution_count": 160,
     "metadata": {},
     "output_type": "execute_result"
    }
   ],
   "source": []
  },
  {
   "cell_type": "code",
   "execution_count": null,
   "id": "375a255f",
   "metadata": {},
   "outputs": [],
   "source": []
  }
 ],
 "metadata": {
  "kernelspec": {
   "display_name": "Python 3",
   "language": "python",
   "name": "python3"
  },
  "language_info": {
   "codemirror_mode": {
    "name": "ipython",
    "version": 3
   },
   "file_extension": ".py",
   "mimetype": "text/x-python",
   "name": "python",
   "nbconvert_exporter": "python",
   "pygments_lexer": "ipython3",
   "version": "3.8.10"
  }
 },
 "nbformat": 4,
 "nbformat_minor": 5
}
