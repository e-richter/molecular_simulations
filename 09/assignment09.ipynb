{
 "cells": [
  {
   "cell_type": "code",
   "execution_count": 12,
   "id": "internal-marketplace",
   "metadata": {},
   "outputs": [],
   "source": [
    "import numpy as np\n",
    "import matplotlib.pyplot as plt\n",
    "from tqdm import tqdm\n",
    "from scipy.stats import maxwell\n",
    "\n",
    "import os, sys, inspect\n",
    "current_dir = os.path.dirname(os.path.abspath(inspect.getfile(inspect.currentframe())))\n",
    "parent_dir = os.path.dirname(current_dir)\n",
    "sys.path.insert(0, parent_dir) \n",
    "\n",
    "import algorithms as a\n",
    "import force_functions as f"
   ]
  },
  {
   "cell_type": "code",
   "execution_count": 13,
   "id": "documented-surfing",
   "metadata": {},
   "outputs": [],
   "source": [
    "t_max = 100\n",
    "dt = .002\n",
    "N = 64\n",
    "lam = 0.1931833275037836"
   ]
  },
  {
   "cell_type": "code",
   "execution_count": 14,
   "id": "latter-compound",
   "metadata": {},
   "outputs": [],
   "source": [
    "def init(N, L, lattice_constant):\n",
    "    \n",
    "    positions = list(np.arange(-L/2., L/2., lattice_constant))\n",
    "    r0 = np.array(np.meshgrid(positions, positions, positions)).T.reshape(-1,3)\n",
    "    p0 = maxwell.rvs(loc=0, scale=1.5, size=(N,3)) / np.sqrt(1.5)\n",
    "    \n",
    "    return r0, p0"
   ]
  },
  {
   "cell_type": "code",
   "execution_count": 15,
   "id": "collaborative-american",
   "metadata": {},
   "outputs": [],
   "source": [
    "r0, p0 = init(N=64, L=6., lattice_constant=1.5)"
   ]
  },
  {
   "cell_type": "code",
   "execution_count": 16,
   "id": "frequent-opposition",
   "metadata": {},
   "outputs": [
    {
     "name": "stderr",
     "output_type": "stream",
     "text": [
      "  0%|          | 0/49999 [00:00<?, ?it/s]/Users/erichter/Documents/Uni/SS21/MolecularSimulations/Assignments/molecular_simulations/force_functions.py:140: RuntimeWarning: divide by zero encountered in true_divide\n",
      "  f = (48 * np.power(1, 12) / np.power(distances, 13) - 24 * np.power(1, 6) / np.power(distances, 7)) / distances\n",
      "/Users/erichter/Documents/Uni/SS21/MolecularSimulations/Assignments/molecular_simulations/force_functions.py:140: RuntimeWarning: invalid value encountered in subtract\n",
      "  f = (48 * np.power(1, 12) / np.power(distances, 13) - 24 * np.power(1, 6) / np.power(distances, 7)) / distances\n",
      "100%|██████████| 49999/49999 [01:26<00:00, 576.09it/s]\n"
     ]
    }
   ],
   "source": [
    "R, P, t = a.BABAB_Ndim(r0, p0, t_max, dt, f.LJ_force, lam, thermal_noise=False,\n",
    "                       periodic={'PBC': True, 'box_size': 6., 'closed': False})"
   ]
  },
  {
   "cell_type": "code",
   "execution_count": 21,
   "id": "prostate-american",
   "metadata": {},
   "outputs": [],
   "source": [
    "def calc_energy(r, p, sigma=1):\n",
    "        \n",
    "    idx = np.arange(len(r))\n",
    "    pairs = np.meshgrid(idx, idx)\n",
    "    distances = np.linalg.norm(r[pairs[0]] - r[pairs[1]], axis=-1)\n",
    "    \n",
    "    V = (4 * np.power(sigma / distances, 12) - 4 * np.power(sigma / distances, 6)).sum()\n",
    "    \n",
    "    T = (np.linalg.norm(p, axis=1)**2 / 2.).sum()\n",
    "    \n",
    "    return V + T"
   ]
  },
  {
   "cell_type": "code",
   "execution_count": 22,
   "id": "concrete-accreditation",
   "metadata": {},
   "outputs": [
    {
     "name": "stderr",
     "output_type": "stream",
     "text": [
      "  0%|          | 0/50000 [00:00<?, ?it/s]<ipython-input-21-cecf974ec684>:7: RuntimeWarning: divide by zero encountered in true_divide\n",
      "  V = (4 * np.power(sigma / distances, 12) - 4 * np.power(sigma / distances, 6)).sum()\n",
      "<ipython-input-21-cecf974ec684>:7: RuntimeWarning: invalid value encountered in subtract\n",
      "  V = (4 * np.power(sigma / distances, 12) - 4 * np.power(sigma / distances, 6)).sum()\n",
      "100%|██████████| 50000/50000 [00:18<00:00, 2752.76it/s]\n"
     ]
    }
   ],
   "source": [
    "E = np.zeros(len(t))\n",
    "for i in tqdm(range(len(t))):\n",
    "    E[i] = calc_energy(R[i], P[i])"
   ]
  },
  {
   "cell_type": "code",
   "execution_count": 23,
   "id": "recorded-proposal",
   "metadata": {},
   "outputs": [
    {
     "data": {
      "image/png": "[encoded data removed]",
      "text/plain": [
       "<Figure size 864x576 with 1 Axes>"
      ]
     },
     "metadata": {
      "needs_background": "light"
     },
     "output_type": "display_data"
    }
   ],
   "source": [
    "fig1, ax1 = plt.subplots(figsize=(12,8))\n",
    "ax1.plot(t, E-E[0], label=r'$\\Delta t=0.002\\tau$')\n",
    "ax1.set_xlabel(r't $[\\tau]$')\n",
    "ax1.set_ylabel(r'$\\Delta E$ $[\\epsilon]$')\n",
    "ax1.legend()\n",
    "ax1.grid(True)\n",
    "plt.show()"
   ]
  },
  {
   "cell_type": "code",
   "execution_count": 7,
   "id": "peaceful-renaissance",
   "metadata": {},
   "outputs": [
    {
     "data": {
      "text/plain": [
       "array([ 1.48247115, -5.33275721, -1.57313102])"
      ]
     },
     "execution_count": 7,
     "metadata": {},
     "output_type": "execute_result"
    }
   ],
   "source": [
    "np.random.uniform(low=-6., high=6., size=3)"
   ]
  },
  {
   "cell_type": "code",
   "execution_count": null,
   "id": "handmade-substitute",
   "metadata": {},
   "outputs": [],
   "source": []
  },
  {
   "cell_type": "code",
   "execution_count": null,
   "id": "million-research",
   "metadata": {},
   "outputs": [],
   "source": [
    "N = 64\n",
    "r = np.random.rand(N, 3)\n",
    "idx = np.arange(N)\n",
    "pairs = np.meshgrid(idx, idx)\n",
    "\n",
    "separations = r[pairs[0]] - r[pairs[1]]\n",
    "distances = np.linalg.norm(r[pairs[0]] - r[pairs[1]], axis=-1)\n",
    "distances2 = np.linalg.norm(separations, axis=-1)"
   ]
  },
  {
   "cell_type": "code",
   "execution_count": null,
   "id": "interstate-lucas",
   "metadata": {},
   "outputs": [],
   "source": [
    "f = (48 * np.power(1, 12) / np.power(distances, 13) - 24 * np.power(1, 6) / np.power(distances, 7)) / distances"
   ]
  },
  {
   "cell_type": "code",
   "execution_count": null,
   "id": "chronic-sweet",
   "metadata": {},
   "outputs": [],
   "source": [
    "f[np.isnan(f)] = 0."
   ]
  },
  {
   "cell_type": "code",
   "execution_count": null,
   "id": "temporal-renaissance",
   "metadata": {
    "scrolled": true
   },
   "outputs": [],
   "source": [
    "f[0,:]"
   ]
  },
  {
   "cell_type": "code",
   "execution_count": null,
   "id": "cutting-tension",
   "metadata": {},
   "outputs": [],
   "source": [
    "separations[0,:,:]"
   ]
  },
  {
   "cell_type": "code",
   "execution_count": null,
   "id": "adverse-spouse",
   "metadata": {},
   "outputs": [],
   "source": [
    "f[0,1]"
   ]
  },
  {
   "cell_type": "code",
   "execution_count": null,
   "id": "expanded-contact",
   "metadata": {},
   "outputs": [],
   "source": [
    "separations[0,1,:]"
   ]
  },
  {
   "cell_type": "code",
   "execution_count": null,
   "id": "rapid-moisture",
   "metadata": {},
   "outputs": [],
   "source": [
    "f[0,1]*separations[0,1,:]"
   ]
  },
  {
   "cell_type": "code",
   "execution_count": null,
   "id": "involved-racing",
   "metadata": {},
   "outputs": [],
   "source": [
    "force[0].sum(axis=0)"
   ]
  },
  {
   "cell_type": "code",
   "execution_count": null,
   "id": "varied-hamilton",
   "metadata": {},
   "outputs": [],
   "source": [
    "force = (np.expand_dims(f[:,:], axis=0).T*separations[:,:,:]).sum(axis=0)"
   ]
  },
  {
   "cell_type": "code",
   "execution_count": null,
   "id": "elect-gregory",
   "metadata": {},
   "outputs": [],
   "source": []
  }
 ],
 "metadata": {
  "kernelspec": {
   "display_name": "Python 3",
   "language": "python",
   "name": "python3"
  },
  "language_info": {
   "codemirror_mode": {
    "name": "ipython",
    "version": 3
   },
   "file_extension": ".py",
   "mimetype": "text/x-python",
   "name": "python",
   "nbconvert_exporter": "python",
   "pygments_lexer": "ipython3",
   "version": "3.9.2"
  }
 },
 "nbformat": 4,
 "nbformat_minor": 5
}
